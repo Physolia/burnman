{
  "cells": [
    {
      "cell_type": "markdown",
      "metadata": {
        "id": "C30Xe311ePd3"
      },
      "source": [
        "<h1>The BurnMan Tutorial</h1>\n",
        "<h2>Part 3: Layers and Planets</h2>\n",
        "This file is part of BurnMan - a thermoelastic and thermodynamic toolkit\n",
        "for the Earth and Planetary Sciences\n",
        "\n",
        "Copyright (C) 2012 - 2021 by the BurnMan team,\n",
        "released under the GNU GPL v2 or later.\n"
      ]
    },
    {
      "cell_type": "markdown",
      "metadata": {
        "id": "13QqqnL6UzBk"
      },
      "source": [
        "# Introduction\n",
        "\n",
        "This ipython notebook is the third in a series designed to introduce new users to the code structure and functionalities present in BurnMan.\n",
        "\n",
        "## Demonstrates\n",
        "\n",
        "1. burnman.Layer\n",
        "2. burnman.Planet\n",
        "\n",
        "\n",
        "Everything in BurnMan and in this tutorial is defined in SI units. "
      ]
    },
    {
      "cell_type": "markdown",
      "metadata": {
        "id": "eFXuzpvW0rm2"
      },
      "source": [
        "## Importing BurnMan\n",
        "\n",
        "In the first part of this tutorial, we decided whether to install the version of BurnMan associated with the tutorial or use the local version. If you chose to install globally, or if you want to use a previously installed version, change the \"use_installed\" variable below to \"True\"."
      ]
    },
    {
      "cell_type": "code",
      "execution_count": null,
      "metadata": {},
      "outputs": [],
      "source": [
        "use_installed = False\n",
        "\n",
        "if not use_installed:\n",
        "    import os\n",
        "    import sys\n",
        "    if not os.path.exists('burnman') and os.path.exists('../../burnman'):\n",
        "        sys.path.insert(1, os.path.abspath('../../'))\n",
        "\n",
        "import burnman\n",
        "print(f'This tutorial will use BurnMan version {burnman.__version__}.')"
      ]
    },
    {
      "cell_type": "markdown",
      "metadata": {
        "id": "90v31CZNNw-m"
      },
      "source": [
        "# Building a planet"
      ]
    },
    {
      "cell_type": "markdown",
      "metadata": {
        "id": "4zb3O3XVECmV"
      },
      "source": [
        "## The Layer class"
      ]
    },
    {
      "cell_type": "code",
      "execution_count": null,
      "metadata": {
        "id": "an6ijF2GNzS1"
      },
      "outputs": [],
      "source": [
        "import numpy as np\n",
        "import matplotlib.pyplot as plt\n",
        "from burnman import Composite, Layer\n",
        "from burnman import minerals\n",
        "\n",
        "depths = np.linspace(2890e3, 670e3, 20)\n",
        "rock = Composite([minerals.SLB_2011.mg_perovskite(),\n",
        "                  minerals.SLB_2011.periclase()],\n",
        "                 [0.8, 0.2])\n",
        "\n",
        "lower_mantle = Layer(name='Lower Mantle', radii=6371.e3-depths)\n",
        "lower_mantle.set_material(rock)    \n",
        "lower_mantle.set_temperature_mode(temperature_mode='adiabatic',\n",
        "                                  temperature_top=1900.)\n",
        "lower_mantle.set_pressure_mode(pressure_mode='self-consistent',\n",
        "                               pressure_top=23.8e9,\n",
        "                               gravity_bottom=10.7)\n",
        "\n",
        "lower_mantle.make()"
      ]
    },
    {
      "cell_type": "markdown",
      "metadata": {
        "id": "5TXYk1tvEIOs"
      },
      "source": [
        "## The Planet class"
      ]
    },
    {
      "cell_type": "code",
      "execution_count": null,
      "metadata": {
        "id": "tvFtC19nNLYE"
      },
      "outputs": [],
      "source": [
        "from burnman import Layer, Planet, Mineral, PerplexMaterial\n",
        "from burnman import minerals\n",
        "\n",
        "icb_radius = 1220.e3\n",
        "inner_core = Layer('inner core', radii=np.linspace(0., icb_radius, 21))\n",
        "Fe_Dewaele = minerals.other.Fe_Dewaele()\n",
        "params = Fe_Dewaele.params\n",
        "params['name'] = 'modified solid iron'\n",
        "params['formula'] = {'Fe': 1.0}\n",
        "inner_core_material = Mineral(params=params,\n",
        "                              property_modifiers=[['linear',\n",
        "                                                   {'delta_E': 0.,\n",
        "                                                    'delta_S': 0.,\n",
        "                                                    'delta_V': 3.95e-7}]])\n",
        "\n",
        "inner_core.set_material(inner_core_material)\n",
        "inner_core.set_temperature_mode('user-defined',\n",
        "                                np.nan*np.ones_like(inner_core.radii))"
      ]
    },
    {
      "cell_type": "code",
      "execution_count": null,
      "metadata": {
        "id": "7M0LAeasNO38"
      },
      "outputs": [],
      "source": [
        "cmb_radius = 3480.e3\n",
        "outer_core = Layer('outer core', radii=np.linspace(icb_radius, cmb_radius, 21))\n",
        "EPOC = minerals.ICL_2018.EPOC_vinet()\n",
        "params = EPOC.params\n",
        "params['name'] = 'modified EPOC'\n",
        "outer_core_material = Mineral(params=params,\n",
        "                              property_modifiers=[['linear',\n",
        "                                                   {'delta_E': 0.,\n",
        "                                                    'delta_S': 0.,\n",
        "                                                    'delta_V': 4.e-8}]])\n",
        "outer_core.set_material(outer_core_material)\n",
        "outer_core.set_temperature_mode('user-defined',\n",
        "                                np.nan*np.ones_like(outer_core.radii))"
      ]
    },
    {
      "cell_type": "code",
      "execution_count": null,
      "metadata": {
        "colab": {
          "base_uri": "https://localhost:8080/"
        },
        "id": "HJSEp1ueGrmZ",
        "outputId": "a98f8f0e-91a7-4fb2-d08c-fdd7857dc61a"
      },
      "outputs": [],
      "source": [
        "import urllib.request\n",
        "urllib.request.urlretrieve(\"https://raw.githubusercontent.com/\"\n",
        "                           \"bobmyhill/bobmyhill.github.io/master/\"\n",
        "                           \"files/pyrolite_perplex_table.dat\",\n",
        "                           \"pyrolite_perplex_table.dat\")"
      ]
    },
    {
      "cell_type": "code",
      "execution_count": null,
      "metadata": {
        "id": "QHeMM3QfNSy9"
      },
      "outputs": [],
      "source": [
        "lab_radius = 6171.e3\n",
        "pyrolite = PerplexMaterial('./pyrolite_perplex_table.dat', name='pyrolite')\n",
        "convecting_mantle = Layer('convecting mantle',\n",
        "                          radii=np.linspace(cmb_radius, lab_radius, 101))\n",
        "convecting_mantle.set_material(pyrolite)\n",
        "convecting_mantle.set_temperature_mode('adiabatic')"
      ]
    },
    {
      "cell_type": "markdown",
      "metadata": {
        "id": "U0XIIgGqNWGm"
      },
      "source": []
    },
    {
      "cell_type": "code",
      "execution_count": null,
      "metadata": {
        "id": "WRF8ZTlbNWrD"
      },
      "outputs": [],
      "source": [
        "moho_radius = 6341.e3\n",
        "lab_temperature = 1600.\n",
        "moho_temperature = 620.\n",
        "surface_temperature = 300.\n",
        "\n",
        "dunite = minerals.SLB_2011.mg_fe_olivine(molar_fractions=[0.915, 0.085])\n",
        "lithospheric_mantle = Layer('lithospheric mantle',\n",
        "                            radii=np.linspace(lab_radius, moho_radius, 31))\n",
        "lithospheric_mantle.set_material(dunite)\n",
        "lithospheric_mantle.set_temperature_mode('user-defined',\n",
        "                                         np.linspace(lab_temperature,\n",
        "                                                     moho_temperature, 31))"
      ]
    },
    {
      "cell_type": "markdown",
      "metadata": {
        "id": "nUw_K1ogNeND"
      },
      "source": [
        "Crust\n",
        "Assume average crust has the density of andesine ~ 40% anorthite"
      ]
    },
    {
      "cell_type": "code",
      "execution_count": null,
      "metadata": {
        "id": "QYaNpJgFNbRC"
      },
      "outputs": [],
      "source": [
        "planet_radius = 6371.e3\n",
        "andesine = minerals.SLB_2011.plagioclase(molar_fractions=[0.4, 0.6])\n",
        "crust = Layer('crust', radii=np.linspace(moho_radius, planet_radius, 11))\n",
        "crust.set_material(andesine)\n",
        "crust.set_temperature_mode('user-defined',\n",
        "                           np.linspace(moho_temperature,\n",
        "                                       surface_temperature, 11))"
      ]
    },
    {
      "cell_type": "code",
      "execution_count": null,
      "metadata": {
        "colab": {
          "base_uri": "https://localhost:8080/"
        },
        "id": "1FF-ZnQmNkbi",
        "outputId": "3d33fbf5-5eff-43cb-c0be-a14f52449947"
      },
      "outputs": [],
      "source": [
        "planet_zog = Planet('Planet Zog',\n",
        "                    [inner_core, outer_core,\n",
        "                     convecting_mantle, lithospheric_mantle,\n",
        "                     crust], verbose=True)\n",
        "planet_zog.make()"
      ]
    },
    {
      "cell_type": "markdown",
      "metadata": {
        "id": "iLkMUcWMNrRL"
      },
      "source": [
        "Now we output the mass of the planet and moment of inertia and the mass of the individual layers:"
      ]
    },
    {
      "cell_type": "code",
      "execution_count": null,
      "metadata": {
        "colab": {
          "base_uri": "https://localhost:8080/"
        },
        "id": "igVRGOyTEKvr",
        "outputId": "433683b5-dc1a-469d-94b8-d225afe20588"
      },
      "outputs": [],
      "source": [
        "earth_mass = 5.972e24\n",
        "earth_moment_of_inertia_factor = 0.3307\n",
        "\n",
        "print(f'mass = {planet_zog.mass:.3e} (Earth = {earth_mass:.3e})')\n",
        "print(f'moment of inertia factor= {planet_zog.moment_of_inertia_factor:.4f} '\n",
        "      f'(Earth = {earth_moment_of_inertia_factor:.4f})')\n",
        "\n",
        "print('Layer mass fractions:')\n",
        "for layer in planet_zog.layers:\n",
        "    print(f'{layer.name}: {layer.mass / planet_zog.mass:.3f}')"
      ]
    },
    {
      "cell_type": "code",
      "execution_count": null,
      "metadata": {
        "colab": {
          "base_uri": "https://localhost:8080/"
        },
        "id": "4YiyOYkDHuG0",
        "outputId": "ae4e8d7f-36f5-4ea6-f757-afef51696b89"
      },
      "outputs": [],
      "source": [
        "import warnings\n",
        "# Let's get PREM to compare everything to as we are trying\n",
        "# to imitate Earth\n",
        "prem = burnman.seismic.PREM()\n",
        "premradii = 6371.e3 - prem.internal_depth_list()\n",
        "\n",
        "with warnings.catch_warnings(record=True) as w:\n",
        "    eval = prem.evaluate(['density', 'pressure', 'gravity', 'v_s', 'v_p'])\n",
        "    premdensity, prempressure, premgravity, premvs, premvp = eval\n",
        "    print(w[-1].message)"
      ]
    },
    {
      "cell_type": "code",
      "execution_count": null,
      "metadata": {
        "colab": {
          "base_uri": "https://localhost:8080/",
          "height": 369
        },
        "id": "3B16hh2ic9cM",
        "outputId": "21d29602-0186-4aa4-d5bb-bed006b608ee"
      },
      "outputs": [],
      "source": [
        "fig = plt.figure(figsize=(8, 5))\n",
        "ax = [fig.add_subplot(2, 2, i) for i in range(1, 5)]\n",
        "\n",
        "ax[0].plot(planet_zog.radii / 1.e3, planet_zog.density / 1.e3,\n",
        "           label=planet_zog.name)\n",
        "ax[0].plot(premradii / 1.e3, premdensity / 1.e3, linestyle=':', label='PREM')\n",
        "ax[0].set_ylabel('Density ($10^3$ kg/m$^3$)')\n",
        "ax[0].legend()\n",
        "\n",
        "# Make a subplot showing the calculated pressure profile\n",
        "ax[1].plot(planet_zog.radii / 1.e3, planet_zog.pressure / 1.e9)\n",
        "ax[1].plot(premradii / 1.e3, prempressure / 1.e9, linestyle=':')\n",
        "ax[1].set_ylabel('Pressure (GPa)')\n",
        "\n",
        "# Make a subplot showing the calculated gravity profile\n",
        "ax[2].plot(planet_zog.radii / 1.e3, planet_zog.gravity)\n",
        "ax[2].plot(premradii / 1.e3, premgravity, linestyle=':')\n",
        "ax[2].set_ylabel('Gravity (m/s$^2)$')\n",
        "ax[2].set_xlabel('Radius (km)')\n",
        "\n",
        "# Make a subplot showing the calculated temperature profile\n",
        "ax[3].plot(planet_zog.radii / 1.e3, planet_zog.temperature)\n",
        "ax[3].set_ylabel('Temperature ($K$)')\n",
        "ax[3].set_xlabel('Radius (km)')\n",
        "ax[3].set_ylim(0.,)\n",
        "\n",
        "for i in range(2):\n",
        "    ax[i].set_xticklabels([])\n",
        "for i in range(4):\n",
        "    ax[i].set_xlim(0., max(planet_zog.radii) / 1.e3)\n",
        "\n",
        "fig.tight_layout()\n",
        "plt.show()"
      ]
    },
    {
      "cell_type": "code",
      "execution_count": null,
      "metadata": {},
      "outputs": [],
      "source": []
    }
  ],
  "metadata": {
    "colab": {
      "collapsed_sections": [],
      "name": "BurnMan_1.0_manuscript.ipynb",
      "provenance": []
    },
    "interpreter": {
      "hash": "d0e8ff0504fa29d441371c1f42f91c694e01f5e6e44698edccbd59f7213ffa15"
    },
    "kernelspec": {
      "display_name": "Python 3.9.2 64-bit ('3.9.2': pyenv)",
      "name": "python3"
    },
    "language_info": {
      "codemirror_mode": {
        "name": "ipython",
        "version": 3
      },
      "file_extension": ".py",
      "mimetype": "text/x-python",
      "name": "python",
      "nbconvert_exporter": "python",
      "pygments_lexer": "ipython3",
      "version": "3.9.2"
    }
  },
  "nbformat": 4,
  "nbformat_minor": 0
}
